{
 "cells": [
  {
   "cell_type": "code",
   "execution_count": null,
   "id": "3e5e4983-8bd9-4399-8b24-bfb93b8a1205",
   "metadata": {},
   "outputs": [],
   "source": [
    "#libraries\n",
    "import pandas as pd\n",
    "import datetime as dt\n",
    "import plotly.express as px\n",
    "import plotly.offline as pyo\n",
    "import matplotlib.pyplot as plt\n",
    "import plotly.graph_objs as go\n",
    "import seaborn as sns\n"
   ]
  },
  {
   "cell_type": "code",
   "execution_count": null,
   "id": "85b3b214-03d5-42c8-b459-def71b2176bd",
   "metadata": {},
   "outputs": [],
   "source": [
    "##Reading datasets\n",
    "cab_data = pd.read_csv(r\"C:\\Users\\diile\\Desktop\\Cab_Data.csv\") \n",
    "city_data = pd.read_csv(r\"C:\\Users\\diile\\Desktop\\City.csv\") \n",
    "customer_data = pd.read_csv(r\"C:\\Users\\diile\\Desktop\\Customer_ID.csv\") \n",
    "transaction_data = pd.read_csv(r\"C:\\Users\\diile\\Desktop\\Transaction_ID.csv\") "
   ]
  },
  {
   "cell_type": "code",
   "execution_count": null,
   "id": "5d204261-cf54-4f19-940b-e7d5f87d921f",
   "metadata": {},
   "outputs": [],
   "source": [
    "city_data"
   ]
  },
  {
   "cell_type": "code",
   "execution_count": null,
   "id": "6f076fb7-5c80-4c13-82a1-f2423d05d122",
   "metadata": {},
   "outputs": [],
   "source": [
    "customer_data.isnull().sum()\n"
   ]
  },
  {
   "cell_type": "code",
   "execution_count": null,
   "id": "87e780c3-8f48-40f5-b8b7-9292bc3493a9",
   "metadata": {},
   "outputs": [],
   "source": [
    "city_data.isnull().sum()\n"
   ]
  },
  {
   "cell_type": "code",
   "execution_count": null,
   "id": "d182dd48-76b5-4ef0-8c4a-2468d186a665",
   "metadata": {},
   "outputs": [],
   "source": [
    "transaction_data.isnull().sum()\n"
   ]
  },
  {
   "cell_type": "code",
   "execution_count": null,
   "id": "5e83f722-5ed2-46b0-855a-f96da166d5d4",
   "metadata": {},
   "outputs": [],
   "source": [
    "customer_data.isnull().sum()\n"
   ]
  },
  {
   "cell_type": "code",
   "execution_count": null,
   "id": "fd64c5da-22ee-47b4-bd56-80a8677810ed",
   "metadata": {},
   "outputs": [],
   "source": [
    "cab_data.info()\n",
    "city_data.info()\n",
    "customer_data.info()\n",
    "transaction_data.info()"
   ]
  },
  {
   "cell_type": "code",
   "execution_count": null,
   "id": "728cf836-f9eb-4daf-a452-153b5fc7b6bb",
   "metadata": {},
   "outputs": [],
   "source": [
    "#handling column names\n",
    "for col in cab_data.columns:\n",
    "    if ' ' in col:\n",
    "        cab_data = cab_data.rename(columns={col:col.replace(' ','_')})"
   ]
  },
  {
   "cell_type": "code",
   "execution_count": null,
   "id": "e52f0eb7-c9b7-47c3-938f-07deceaf6027",
   "metadata": {},
   "outputs": [],
   "source": [
    "#handling column names\n",
    "for col in transaction_data.columns:\n",
    "    if ' ' in col:\n",
    "        transaction_data = transaction_data.rename(columns={col:col.replace(' ','_')})"
   ]
  },
  {
   "cell_type": "code",
   "execution_count": null,
   "id": "37736707-3d78-4dcc-8ded-48c670167c4f",
   "metadata": {},
   "outputs": [],
   "source": [
    "for col in customer_data.columns:\n",
    "    if ' ' in col:\n",
    "        customer_data = customer_data.rename(columns={col:col.replace(' ','_')})"
   ]
  },
  {
   "cell_type": "code",
   "execution_count": null,
   "id": "c7a45461-6687-41af-9940-5968eb1c9ed1",
   "metadata": {},
   "outputs": [],
   "source": [
    "\n",
    "cab_data['Date_of_Travel'] = pd.TimedeltaIndex(cab_data['Date_of_Travel'], unit='d') + dt.datetime(1899, 12, 30)\n"
   ]
  },
  {
   "cell_type": "code",
   "execution_count": null,
   "id": "ec17bcd6-8eb8-4c0f-8688-be2bd68875c0",
   "metadata": {},
   "outputs": [],
   "source": [
    "cab_data['Date_of_Travel']"
   ]
  },
  {
   "cell_type": "code",
   "execution_count": null,
   "id": "4fad561d-aa2a-494a-96b7-d816a50cb9e5",
   "metadata": {},
   "outputs": [],
   "source": [
    "months=[]\n",
    "years =[]\n",
    "for i in range(len(cab_data['Date_of_Travel'])):\n",
    "    months.append(cab_data['Date_of_Travel'][i].month)\n",
    "    years.append(cab_data['Date_of_Travel'][i].year)\n",
    "cab_data['Month'] = months\n",
    "cab_data['Year'] = years"
   ]
  },
  {
   "cell_type": "code",
   "execution_count": null,
   "id": "d16c72fd-36fb-43cb-98a4-1caeae05362e",
   "metadata": {},
   "outputs": [],
   "source": [
    "cab_data = cab_data.drop(['Date_of_Travel'],axis=1)\n"
   ]
  },
  {
   "cell_type": "code",
   "execution_count": null,
   "id": "0ea57d8a-6f79-46e5-a83e-a70dffae3fa0",
   "metadata": {},
   "outputs": [],
   "source": [
    "cab_data.head()"
   ]
  },
  {
   "cell_type": "code",
   "execution_count": null,
   "id": "39de8f80-4235-45f5-8c6e-c60b123fdf03",
   "metadata": {},
   "outputs": [],
   "source": [
    "#Calculating profits for each transaction.\n",
    "cab_data['profit'] = cab_data['Price_Charged'] - cab_data['Cost_of_Trip']\n",
    "cab_data.head()\n"
   ]
  },
  {
   "cell_type": "code",
   "execution_count": null,
   "id": "f1ca2772-c02b-4af6-a872-db43336d9e55",
   "metadata": {},
   "outputs": [],
   "source": [
    "#general view of transaction costs grouped by company\n",
    "\n",
    "fig = px.histogram(cab_data, x=\"Company\", y=\"profit\",color=\"Company\",\n",
    "                   title='Profit Grouped by Companies ')\n",
    "fig.show()\n",
    "\n",
    "#Sum of profit of yellow cab is way more than pink cab. Close to 39M."
   ]
  },
  {
   "cell_type": "code",
   "execution_count": null,
   "id": "88679fd9-b34e-4de1-a044-b13cc0c30368",
   "metadata": {},
   "outputs": [],
   "source": [
    "#Yearly profit grouped by companies \n",
    "fig = px.histogram(cab_data, x=\"Year\", y=\"profit\",color=\"Company\",\n",
    "                   title='Profit Grouped by Companies per Year ', barmode=\"group\",\n",
    "                  category_orders={\"Year\": [\"2016\", \"2017\", \"2018\"],\n",
    "                              \"Company\": [\"Pink Cab\", \"Yellow Cab\"]})\n",
    "fig.show()\n",
    "#Yellow cab's profit is always higher than pink. Both pink and yellow had decrease in their profits in 2017.\n",
    "#Yellow cab lost nearly 3M and pink cab lost nearly half a million in 2018."
   ]
  },
  {
   "cell_type": "code",
   "execution_count": null,
   "id": "67a061ee-15bd-47a0-87ee-e386bc9b3519",
   "metadata": {},
   "outputs": [],
   "source": [
    "plot_tr = cab_data.groupby(['Year','Company']).Transaction_ID.count()\n",
    "plot_trgen = cab_data.groupby('Company').Transaction_ID.count()\n",
    "print('Yearly Transaction Analysis',plot_tr)\n",
    "print('Company Transaction share :',plot_trgen)"
   ]
  },
  {
   "cell_type": "code",
   "execution_count": null,
   "id": "1482fa33-d513-40ef-9c66-47952d47377b",
   "metadata": {},
   "outputs": [],
   "source": [
    "fig = px.histogram(cab_data, x=\"Month\",y=\"Transaction_ID\",color=\"Company\", barmode=\"group\",histfunc=\"count\",\n",
    "title='Number of Transactions per Month'\n",
    ")\n",
    "fig.show()\n",
    "#yellow cab has more customers every month of the year,especially during month of December which is a holiday month for USA."
   ]
  },
  {
   "cell_type": "code",
   "execution_count": null,
   "id": "048578d1-ef28-449f-8c0f-40b4834e364d",
   "metadata": {},
   "outputs": [],
   "source": [
    "#Creating Master Data \n",
    "left = cab_data.set_index(['Transaction_ID'])\n",
    "right = transaction_data.set_index(['Transaction_ID'])\n",
    "data = left.join(right)\n",
    "data"
   ]
  },
  {
   "cell_type": "code",
   "execution_count": null,
   "id": "b38f8736-4106-4c0c-a915-4b3adee9fa4f",
   "metadata": {},
   "outputs": [],
   "source": [
    "left = data.set_index([data.index,'Customer_ID'])\n",
    "right = customer_data.set_index(['Customer_ID'])\n",
    "data = left.join(right)\n",
    "data"
   ]
  },
  {
   "cell_type": "code",
   "execution_count": null,
   "id": "dfb1728a-b285-43d8-883b-fd23460d77e4",
   "metadata": {},
   "outputs": [],
   "source": [
    "left = data.set_index([data.index,'City'])\n",
    "right = city_data.set_index(['City'])\n",
    "data = left.join(right)\n",
    "data"
   ]
  },
  {
   "cell_type": "code",
   "execution_count": null,
   "id": "6626c5bd-4b7b-416b-923e-dd44d57ea851",
   "metadata": {},
   "outputs": [],
   "source": [
    "data = data.reset_index()\n"
   ]
  },
  {
   "cell_type": "code",
   "execution_count": null,
   "id": "609ab854-e8ea-4e22-99e6-2cba072434e9",
   "metadata": {},
   "outputs": [],
   "source": [
    "data.duplicated()"
   ]
  },
  {
   "cell_type": "code",
   "execution_count": null,
   "id": "6a46f170-6525-421e-acdc-a576d3f1740e",
   "metadata": {},
   "outputs": [],
   "source": [
    "data"
   ]
  },
  {
   "cell_type": "code",
   "execution_count": null,
   "id": "b1418bb8-eddb-4fee-893c-b918ba252a17",
   "metadata": {},
   "outputs": [],
   "source": [
    "data = data.rename(columns={'Income_(USD/Month)':'Income'})\n",
    "YellowCab = data[data['Company']=='Yellow Cab']\n",
    "PinkCab = data[data['Company']=='Pink Cab']\n"
   ]
  },
  {
   "cell_type": "code",
   "execution_count": null,
   "id": "baec895e-0079-45b7-bd18-2e2e32e3e8b1",
   "metadata": {},
   "outputs": [],
   "source": [
    "city_n = data.groupby('City').Transaction_ID.count()\n",
    "city_n"
   ]
  },
  {
   "cell_type": "code",
   "execution_count": null,
   "id": "97497ee6-4851-4965-9437-1a5e313694e0",
   "metadata": {
    "tags": []
   },
   "outputs": [],
   "source": [
    "#About a quarter of all transactions are in New York.\n",
    "lab = city_n.index\n",
    "val = city_n.values\n",
    "trace = go.Pie(labels=lab, \n",
    "                values=val, \n",
    "                # Seting values to \n",
    "              )\n",
    "datapie = [trace]\n",
    "layout = go.Layout(title=\"Transaction Distribution\")\n",
    "fig = go.Figure(data = datapie,layout = layout)\n",
    "fig.show()\n",
    "#About a quarter of all transactions are in New York."
   ]
  },
  {
   "cell_type": "code",
   "execution_count": null,
   "id": "3f8f26f6-f59b-4dee-8c38-c2faefa70bda",
   "metadata": {},
   "outputs": [],
   "source": [
    "mtNYC = data[data['City']=='NEW YORK NY']\n",
    "mtNYC_ =data.groupby('Company').Transaction_ID.count()"
   ]
  },
  {
   "cell_type": "code",
   "execution_count": null,
   "id": "64df6082-a3e3-4b40-934f-22882f437481",
   "metadata": {},
   "outputs": [],
   "source": [
    "#Which company has more transactions in NYC?\n",
    "lab = mtNYC_.index\n",
    "val = mtNYC_.values\n",
    "trace = go.Pie(labels=lab, \n",
    "                values=val, \n",
    "                # Seting values to \n",
    "              )\n",
    "datapie = [trace]\n",
    "layout = go.Layout(title=\"Transaction Distribution in NYC per companies\")\n",
    "fig = go.Figure(data = datapie,layout = layout)\n",
    "fig.show()\n",
    "#Yellow cab has %76.4 of users."
   ]
  },
  {
   "cell_type": "code",
   "execution_count": null,
   "id": "1610877f-1f1b-4256-925f-bd033d77b5e4",
   "metadata": {},
   "outputs": [],
   "source": [
    "#Are there any cities which pink cab has more transactions?\n",
    "fig = px.histogram(data, x=\"City\",y=\"Transaction_ID\",color=\"Company\", barmode=\"group\",histfunc=\"count\",\n",
    "title='Number of Transactions per Month'\n",
    ")\n",
    "fig.show()\n",
    "#In Nashville,Sacramento and San Diego CA there are more transactions."
   ]
  },
  {
   "cell_type": "code",
   "execution_count": null,
   "id": "75b0c09f-af68-4aaf-93c5-b497fbf5a2af",
   "metadata": {},
   "outputs": [],
   "source": [
    "#There should a positive correlation between km travelled and price charged.\n",
    "PinkCab['KM_Travelled'].corr(PinkCab['Price_Charged'])\n",
    "\n"
   ]
  },
  {
   "cell_type": "code",
   "execution_count": null,
   "id": "810664af-202d-49db-a346-10a3b733f778",
   "metadata": {},
   "outputs": [],
   "source": [
    "YellowCab['KM_Travelled'].corr(YellowCab['Price_Charged'])\n",
    "#there is a positive correlation for both Pink and Yellow cab."
   ]
  },
  {
   "cell_type": "code",
   "execution_count": null,
   "id": "39c7c465-733a-4a83-9313-8509581b7d0e",
   "metadata": {},
   "outputs": [],
   "source": [
    "#Is it cheaper to use Yellow Cab than Pink Cab in NYC ?\n",
    "#First,lets look at Yellow Cab's prices.\n",
    "plt.figure(figsize=(10,10))\n",
    "sns.scatterplot(data=cab_data, x=YellowCab[\"KM_Travelled\"], y=YellowCab['Price_Charged'], hue=\"City\")\n",
    "plt.ylabel('Yellow Cab Price ')\n",
    "plt.xlabel('Yellow Cab KM ')"
   ]
  },
  {
   "cell_type": "code",
   "execution_count": null,
   "id": "fc751d97-1112-4a78-bf54-73d68126e0f5",
   "metadata": {},
   "outputs": [],
   "source": [
    "#After that,lets look at pink cab's.\n",
    "plt.figure(figsize=(10,10))\n",
    "sns.scatterplot(data=cab_data, x=PinkCab[\"KM_Travelled\"], y=PinkCab['Price_Charged'], hue=\"City\")\n",
    "plt.ylabel('Pink Cab Price ')\n",
    "plt.xlabel('Pink Cab KM ')"
   ]
  },
  {
   "cell_type": "code",
   "execution_count": null,
   "id": "e6c9b2a0-8e1b-44bd-8d40-700182e80ccc",
   "metadata": {},
   "outputs": [],
   "source": [
    "#From the graphs, we can say that Yellow Cab costs more than Pink cab in NYC.\n",
    "#Also, we can see for Yellow Cab that they charge more than any other city in NYC."
   ]
  },
  {
   "cell_type": "code",
   "execution_count": null,
   "id": "6b31aec0-8ddb-4def-a44b-1366af7bb129",
   "metadata": {},
   "outputs": [],
   "source": [
    "#Did one of the companies had decrease in customers?\n",
    "fig = px.histogram(data, x=\"Company\",y=\"Customer_ID\",color=\"Year\", barmode=\"group\",histfunc=\"count\",\n",
    "title='Customers according to years for each companies'\n",
    ")\n",
    "fig.show()\n",
    "#There is no decrease in customers for each company."
   ]
  },
  {
   "cell_type": "code",
   "execution_count": null,
   "id": "f8953766-e14d-4b4b-bb4d-5733c09817f3",
   "metadata": {},
   "outputs": [],
   "source": [
    "#Fixing data frame for getting the max user value.\n",
    "YellowCab=pd.DataFrame(YellowCab)\n",
    "YellowCab = YellowCab.replace(',','', regex=True)\n",
    "YellowCab['Users'] = pd.to_numeric(YellowCab.Users)\n",
    "\n",
    "PinkCab=pd.DataFrame(PinkCab)\n",
    "PinkCab = PinkCab.replace(',','', regex=True)\n",
    "PinkCab['Users'] = pd.to_numeric(PinkCab.Users)\n",
    "\n"
   ]
  },
  {
   "cell_type": "code",
   "execution_count": null,
   "id": "335d22f0-9991-4558-a4e1-ea885c67633a",
   "metadata": {},
   "outputs": [],
   "source": [
    "#Both gained customers.Now let's look at which  gained more profit.\n",
    "#Lets set time frame as 2016-2018 for calculating year-over-year growth in terms of customer number for each company.\n",
    "#Retrieve Yellow Cab's numbers from 2016 and 2018\n",
    "#Yellow\n",
    "#Subtract last year's number from this year's\n",
    "yellowno=YellowCab.loc[YellowCab['Year'] == 2018, 'profit'].mean() - YellowCab.loc[YellowCab['Year'] == 2016, 'profit'].mean()\n",
    "#Pink\n",
    "pinkno=PinkCab.loc[PinkCab['Year'] == 2018, 'profit'].mean() - PinkCab.loc[PinkCab['Year'] == 2016, 'profit'].mean()\n",
    "#Divide the total by last year's number\n",
    "\n",
    "yno2=yellowno/YellowCab.loc[YellowCab['Year'] == 2018, 'profit'].mean()\n",
    "pno2=pinkno/PinkCab.loc[PinkCab['Year'] == 2018, 'profit'].mean()\n",
    "#Multiply by 100 to get the final percentage\n",
    "ygrowth=yno2/100\n",
    "pgrowth=pno2/100\n",
    "print(\"Yellow Cab : \", ygrowth,\"Pink Cab\" ,pgrowth)\n"
   ]
  },
  {
   "cell_type": "code",
   "execution_count": null,
   "id": "0a973f59-1db5-4165-a733-469fcb9a6153",
   "metadata": {},
   "outputs": [],
   "source": [
    "#As shown, yellow cab's growth rate is better. But both is in negative values.\n",
    "max(ygrowth,pgrowth)"
   ]
  },
  {
   "cell_type": "code",
   "execution_count": null,
   "id": "670c7999-40b8-4971-b786-6728d7a33976",
   "metadata": {},
   "outputs": [],
   "source": [
    "#Customer share\n",
    "fig = px.pie(data, values='Customer_ID', names='Company')\n",
    "fig.show()\n",
    "#Yellow cab has more share in customers."
   ]
  },
  {
   "cell_type": "code",
   "execution_count": null,
   "id": "70dd773e-deab-4e4a-a26c-bde7bd55ccbc",
   "metadata": {},
   "outputs": [],
   "source": [
    "#Is any company preferred more by a certain age range?\n",
    "fig = px.histogram(data, x=\"Age\",y=\"Customer_ID\",color=\"Company\",histfunc=\"count\",\n",
    "title='Age Distribution for companies'\n",
    ")\n",
    "fig.show()\n",
    "#As shown, there is no significant difference of choice within age ranges.\n",
    "#We can say that no matter the age,Yellow cab is preffered more than Pink. "
   ]
  },
  {
   "cell_type": "code",
   "execution_count": null,
   "id": "9d7efb44-0446-48b7-b6da-0126262ab21d",
   "metadata": {},
   "outputs": [],
   "source": [
    "#Is any company preferred more by a certain gender?\n",
    "fig = px.histogram(data, x=\"Gender\",y=\"Customer_ID\",color=\"Company\",histfunc=\"count\",\n",
    "title='Gender distribution for companies'\n",
    ")\n",
    "fig.show()\n",
    "#From the graph, we can say that yellow cab is preffered more no matter the gender."
   ]
  },
  {
   "cell_type": "code",
   "execution_count": null,
   "id": "9c58ae83-9b4f-403d-b844-8ab4af817d6a",
   "metadata": {},
   "outputs": [],
   "source": [
    "#Since Yellow Cab has more profit and more expensive in some cities, lets check if there is a relationship with social class.\n",
    "LowerIncome= data[data['Income']<=data['Income'].mean()]\n",
    "HigherIncome= data[data['Income']>data['Income'].mean()]"
   ]
  },
  {
   "cell_type": "code",
   "execution_count": null,
   "id": "f9cd3073-e467-45d0-a280-80673fb0da5f",
   "metadata": {},
   "outputs": [],
   "source": [
    "#People with lower income prefers Yellow Cab even though it is more expensive in some cities.(Like NYC)\n",
    "fig = px.pie(LowerIncome, values='Customer_ID', names='Company')\n",
    "fig.show()"
   ]
  },
  {
   "cell_type": "code",
   "execution_count": null,
   "id": "e8e822f3-37e9-492a-85cf-d8e1905baab6",
   "metadata": {},
   "outputs": [],
   "source": [
    "##People with higher income prefers Yellow Cab.\n",
    "\n",
    "fig = px.pie(HigherIncome, values='Customer_ID', names='Company')\n",
    "fig.show()"
   ]
  },
  {
   "cell_type": "markdown",
   "id": "0d705a45-32b6-4f4a-b344-e7612c7ae026",
   "metadata": {},
   "source": [
    "We can conclude from the analysis : \n",
    "1.Yellow cab is preffered more than pink cab no matter age,income or gender by customers.\n",
    "2.Yearly profit of yellow cab is always more than pink cab.\n",
    "3.Growth rate of yellow cab is higher than pink cab.\n",
    "4.Out of 19 cities, only in three cities there are more transactions done by Pink Cab than Yellow Cab.\n",
    "5.Yellow cab has more customers every month of the year,especially during month of December which is a holiday month for USA.\n",
    "6.Yellow cab usually costs more to customers.\n",
    "\n",
    "After these conclusions,I recommend investing in Yellow Cab."
   ]
  }
 ],
 "metadata": {
  "kernelspec": {
   "display_name": "Python 3",
   "language": "python",
   "name": "python3"
  },
  "language_info": {
   "codemirror_mode": {
    "name": "ipython",
    "version": 3
   },
   "file_extension": ".py",
   "mimetype": "text/x-python",
   "name": "python",
   "nbconvert_exporter": "python",
   "pygments_lexer": "ipython3",
   "version": "3.8.8"
  }
 },
 "nbformat": 4,
 "nbformat_minor": 5
}
